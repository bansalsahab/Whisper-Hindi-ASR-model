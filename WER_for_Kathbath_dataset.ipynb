{
  "nbformat": 4,
  "nbformat_minor": 0,
  "metadata": {
    "colab": {
      "provenance": []
    },
    "kernelspec": {
      "name": "python3",
      "display_name": "Python 3"
    },
    "language_info": {
      "name": "python"
    }
  },
  "cells": [
    {
      "cell_type": "code",
      "execution_count": null,
      "metadata": {
        "id": "DeIGOhCiNPhh"
      },
      "outputs": [],
      "source": [
        "def calculate_wer(reference, hypothesis):\n",
        "    reference_words = reference.split()\n",
        "    hypothesis_words = hypothesis.split()\n",
        "    S = 0\n",
        "    D = 0\n",
        "    I = 0\n",
        "    for ref_word, hyp_word in zip(reference_words, hypothesis_words):\n",
        "        if ref_word != hyp_word:\n",
        "            if ref_word == \"\":\n",
        "                I += 1\n",
        "            elif hyp_word == \"\":\n",
        "                D += 1\n",
        "            else:\n",
        "                S += 1\n",
        "    D += max(0, len(reference_words) - len(hypothesis_words))\n",
        "    I += max(0, len(hypothesis_words) - len(reference_words))\n",
        "\n",
        "    N = len(reference_words)\n",
        "    WER = (S + D + I) / N\n",
        "\n",
        "    return WER\n",
        "\n",
        "reference_transcript = \"इसलिए हम भी नेफेड के माध्यम से खरीदारी कर रहे हैं\"\n",
        "hypothesis_transcript = \"इSसलिए हम भी नेफेड के माध्यम से खरीदारी कर रहे हैं।\"\n",
        "\n",
        "wer = calculate_wer(reference_transcript, hypothesis_transcript)\n",
        "print(\"WER:\", wer)\n"
      ]
    }
  ]
}